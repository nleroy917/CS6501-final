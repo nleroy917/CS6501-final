{
 "cells": [
  {
   "cell_type": "code",
   "execution_count": 1,
   "metadata": {},
   "outputs": [
    {
     "name": "stderr",
     "output_type": "stream",
     "text": [
      "/Users/nathanleroy/uva/fa2023/nlp/final/venv/lib/python3.11/site-packages/tqdm/auto.py:21: TqdmWarning: IProgress not found. Please update jupyter and ipywidgets. See https://ipywidgets.readthedocs.io/en/stable/user_install.html\n",
      "  from .autonotebook import tqdm as notebook_tqdm\n"
     ]
    }
   ],
   "source": [
    "import pandas as pd\n",
    "\n",
    "from dna_classification.models import DNASequenceClassifier\n",
    "from dna_classification.tokenization import DNATokenizer\n",
    "\n",
    "from tqdm import tqdm"
   ]
  },
  {
   "cell_type": "code",
   "execution_count": null,
   "metadata": {},
   "outputs": [],
   "source": [
    "data = pd.read_csv(\"data/virus.txt\", skiprows=1, header=None, names=[\"sequence\", \"label\"], sep=\"\\t\")"
   ]
  },
  {
   "cell_type": "code",
   "execution_count": 4,
   "metadata": {},
   "outputs": [],
   "source": [
    "tokenizer = DNATokenizer()\n",
    "tokenizer.build_vocab(\"data/virus.txt\")\n",
    "\n",
    "model = DNASequenceClassifier(\n",
    "    vocab_size=tokenizer.vocab_size,\n",
    "    embedding_dim=192,\n",
    "    hidden_dim=64,\n",
    "    num_layers=2,\n",
    "    num_classes=data[\"label\"].nunique()\n",
    ")\n",
    "\n",
    "model.add_tokenizer(tokenizer)"
   ]
  },
  {
   "cell_type": "code",
   "execution_count": null,
   "metadata": {},
   "outputs": [],
   "source": [
    "train_loss, val_loss = model.train_model(\n",
    "    data=data,\n",
    "    epochs=100,\n",
    "    batch_size=256,\n",
    "    device=\"cuda\",\n",
    "    optimizer_params={\n",
    "        \"lr\": 0.001,\n",
    "    }\n",
    ")"
   ]
  },
  {
   "cell_type": "code",
   "execution_count": null,
   "metadata": {},
   "outputs": [],
   "source": [
    "# get accuracy\n",
    "model.cpu()\n",
    "model.eval()\n",
    "correct = 0\n",
    "total = 0\n",
    "\n",
    "# subset\n",
    "data_sample = data.sample(1000)\n",
    "\n",
    "for i in tqdm(range(len(data_sample))):\n",
    "    sequence = data.iloc[i][\"sequence\"]\n",
    "    label = data.iloc[i][\"label\"]\n",
    "    pred = model.predict(sequence)\n",
    "    if pred == label:\n",
    "        correct += 1\n",
    "    total += 1\n",
    "\n",
    "print(f\"Accuracy: {correct / total}\")"
   ]
  }
 ],
 "metadata": {
  "kernelspec": {
   "display_name": "venv",
   "language": "python",
   "name": "python3"
  },
  "language_info": {
   "codemirror_mode": {
    "name": "ipython",
    "version": 3
   },
   "file_extension": ".py",
   "mimetype": "text/x-python",
   "name": "python",
   "nbconvert_exporter": "python",
   "pygments_lexer": "ipython3",
   "version": "3.11.4"
  }
 },
 "nbformat": 4,
 "nbformat_minor": 2
}
