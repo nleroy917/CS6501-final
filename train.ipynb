{
 "cells": [
  {
   "cell_type": "code",
   "execution_count": null,
   "metadata": {},
   "outputs": [],
   "source": [
    "from models.classifier import DNAClassifier\n",
    "from tokenization.dna_tokenizer import DNATokenizer\n",
    "from utils.data import load_data, collate_fn, DNADataset"
   ]
  }
 ],
 "metadata": {
  "language_info": {
   "name": "python"
  }
 },
 "nbformat": 4,
 "nbformat_minor": 2
}
