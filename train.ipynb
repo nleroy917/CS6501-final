{
 "cells": [
  {
   "cell_type": "code",
   "execution_count": 1,
   "metadata": {},
   "outputs": [
    {
     "name": "stderr",
     "output_type": "stream",
     "text": [
      "/Users/nathanleroy/uva/fa2023/nlp/final/venv/lib/python3.11/site-packages/tqdm/auto.py:21: TqdmWarning: IProgress not found. Please update jupyter and ipywidgets. See https://ipywidgets.readthedocs.io/en/stable/user_install.html\n",
      "  from .autonotebook import tqdm as notebook_tqdm\n"
     ]
    }
   ],
   "source": [
    "import pandas as pd\n",
    "import seaborn as sns\n",
    "import matplotlib.pyplot as plt\n",
    "\n",
    "from sklearn.metrics import confusion_matrix, f1_score\n",
    "\n",
    "from dna_classification.models import DNASequenceClassifier\n",
    "from dna_classification.tokenization import DNATokenizer\n",
    "\n",
    "from tqdm import tqdm\n",
    "\n",
    "plt.rcParams['figure.dpi'] = 300"
   ]
  },
  {
   "cell_type": "code",
   "execution_count": 2,
   "metadata": {},
   "outputs": [],
   "source": [
    "data = pd.read_csv(\"data/virus.txt\", skiprows=1, header=None, names=[\"sequence\", \"label\"], sep=\"\\t\")"
   ]
  },
  {
   "cell_type": "code",
   "execution_count": 4,
   "metadata": {},
   "outputs": [
    {
     "name": "stderr",
     "output_type": "stream",
     "text": [
      "Building vocab: 69352it [00:03, 18948.66it/s]\n",
      "100%|██████████| 24/24 [00:00<00:00, 898779.43it/s]\n",
      "Building vocab: 69352it [00:05, 13414.89it/s]/it]\n",
      "100%|██████████| 500/500 [00:00<00:00, 3934619.14it/s]\n",
      "Building vocab: 69352it [00:05, 12928.76it/s]/it]\n",
      "100%|██████████| 8492/8492 [00:00<00:00, 5116062.85it/s]\n",
      "Building vocab: 69352it [00:05, 12238.94it/s]/it]\n",
      "100%|██████████| 45611/45611 [00:00<00:00, 4889245.55it/s]\n",
      "Building vocab: 69352it [00:05, 12370.23it/s]/it]\n",
      "100%|██████████| 70572/70572 [00:00<00:00, 5883881.41it/s]\n",
      "Building vocab: 69352it [00:05, 12316.42it/s]/it]\n",
      "100%|██████████| 86323/86323 [00:00<00:00, 5280685.26it/s]\n",
      "Building vocab: 69352it [00:05, 12014.53it/s]/it]\n",
      "100%|██████████| 100918/100918 [00:00<00:00, 4634173.48it/s]\n",
      "Building vocab: 69352it [00:05, 12364.79it/s]/it]\n",
      "100%|██████████| 115337/115337 [00:00<00:00, 4268770.71it/s]\n",
      "Building vocab: 69352it [00:05, 12279.05it/s]/it]\n",
      "100%|██████████| 129589/129589 [00:00<00:00, 4928464.08it/s]\n",
      "Building vocab: 69352it [00:05, 11740.25it/s]/it]\n",
      "100%|██████████| 143669/143669 [00:00<00:00, 4013877.99it/s]\n",
      "k: 100%|██████████| 10/10 [00:54<00:00,  5.42s/it]\n"
     ]
    }
   ],
   "source": [
    "ks = [1, 2, 3, 4, 5, 6, 7, 8, 9, 10]\n",
    "vocab_sizes = []\n",
    "\n",
    "for k in tqdm(ks, desc=\"k\", total=len(ks)):\n",
    "    tokenizer = DNATokenizer()\n",
    "    tokenizer.build_vocab(\"data/virus.txt\", k=k)\n",
    "    vocab_sizes.append(len(tokenizer.token_to_id))"
   ]
  },
  {
   "cell_type": "code",
   "execution_count": 4,
   "metadata": {},
   "outputs": [],
   "source": [
    "DROPOUT = 0.1\n",
    "K = 1\n",
    "\n",
    "tokenizer = DNATokenizer()\n",
    "tokenizer.build_vocab(\"data/virus.txt\", k=K)\n",
    "\n",
    "\n",
    "model = DNASequenceClassifier(\n",
    "    vocab_size=tokenizer.vocab_size,\n",
    "    embedding_dim=384,\n",
    "    hidden_dim=64,\n",
    "    num_layers=2,\n",
    "    num_classes=data[\"label\"].nunique(),\n",
    "    dropout=DROPOUT\n",
    ")\n",
    "\n",
    "model.add_tokenizer(tokenizer)"
   ]
  },
  {
   "cell_type": "code",
   "execution_count": null,
   "metadata": {},
   "outputs": [],
   "source": [
    "EPOCHS = 20\n",
    "BATCH_SIZE = 256\n",
    "LR = 0.0001\n",
    "\n",
    "train_loss, val_loss = model.train_model(\n",
    "    data=data,\n",
    "    epochs=EPOCHS,\n",
    "    batch_size=BATCH_SIZE,\n",
    "    device=\"cuda\",\n",
    "    optimizer_params={\n",
    "        \"lr\": LR,\n",
    "    }\n",
    ")"
   ]
  },
  {
   "cell_type": "code",
   "execution_count": null,
   "metadata": {},
   "outputs": [],
   "source": [
    "model.export(f\"checkpoints/flu_covid_e{EPOCHS}_bs{BATCH_SIZE}_lr{LR}_d{DROPOUT}\")"
   ]
  },
  {
   "cell_type": "code",
   "execution_count": null,
   "metadata": {},
   "outputs": [],
   "source": [
    "# create loss curves\n",
    "fig, ax = plt.subplots(figsize=(8, 6))\n",
    "\n",
    "sns.lineplot(x=range(len(train_loss)), y=train_loss, ax=ax, label=\"train\")\n",
    "sns.lineplot(x=range(len(val_loss)), y=val_loss, ax=ax, label=\"val\")\n",
    "\n",
    "ax.set_xlabel(\"Epoch\")\n",
    "ax.set_ylabel(\"Loss\")\n",
    "\n",
    "# increase font\n",
    "for item in ([ax.title, ax.xaxis.label, ax.yaxis.label] +\n",
    "             ax.get_xticklabels() + ax.get_yticklabels()):\n",
    "    item.set_fontsize(15)\n",
    "\n",
    "# increase line width\n",
    "for line in ax.lines:\n",
    "    line.set_linewidth(2)\n",
    "\n",
    "plt.tight_layout()\n",
    "fig.savefig(f\"figs/loss_e{EPOCHS}_bs{BATCH_SIZE}_lr{LR}_d{DROPOUT}.png\")"
   ]
  },
  {
   "cell_type": "code",
   "execution_count": null,
   "metadata": {},
   "outputs": [],
   "source": [
    "# get accuracy\n",
    "model.cpu()\n",
    "model.eval()\n",
    "correct = 0\n",
    "total = 0\n",
    "\n",
    "# subset\n",
    "data_sample = data.sample(1000)\n",
    "\n",
    "for i in tqdm(range(len(data_sample))):\n",
    "    sequence = data.iloc[i][\"sequence\"]\n",
    "    label = data.iloc[i][\"label\"]\n",
    "    pred = model.predict(sequence)\n",
    "    if pred == label:\n",
    "        correct += 1\n",
    "    total += 1\n",
    "\n",
    "print(f\"Accuracy: {correct / total * 100}%\")"
   ]
  },
  {
   "cell_type": "code",
   "execution_count": null,
   "metadata": {},
   "outputs": [],
   "source": [
    "# assign prediction to each sequence in the data\n",
    "data_sample[\"prediction\"] = data_sample[\"sequence\"].apply(lambda x: model.predict(x))\n",
    "\n",
    "# get confusion matrix\n",
    "confusion_matrix = confusion_matrix(data_sample[\"label\"], data_sample[\"prediction\"])\n",
    "\n",
    "# get F1 score\n",
    "f1_score = f1_score(data_sample[\"label\"], data_sample[\"prediction\"], average=\"macro\")\n",
    "\n",
    "# plot the confusion matrix\n",
    "fig, ax = plt.subplots(figsize=(8, 6))\n",
    "\n",
    "sns.heatmap(confusion_matrix, annot=True, ax=ax, cmap=\"Blues\", fmt=\"g\")\n",
    "\n",
    "ax.set_xlabel(\"Predicted\")\n",
    "ax.set_ylabel(\"True\")\n",
    "\n",
    "# increase font\n",
    "for item in ([ax.title, ax.xaxis.label, ax.yaxis.label] +\n",
    "             ax.get_xticklabels() + ax.get_yticklabels()):\n",
    "    item.set_fontsize(15)\n",
    "\n",
    "plt.tight_layout()\n",
    "\n",
    "fig.savefig(f\"figs/cm_e{EPOCHS}_bs{BATCH_SIZE}_lr{LR}_d{DROPOUT}.png\")"
   ]
  },
  {
   "cell_type": "code",
   "execution_count": null,
   "metadata": {},
   "outputs": [],
   "source": []
  }
 ],
 "metadata": {
  "kernelspec": {
   "display_name": "venv",
   "language": "python",
   "name": "python3"
  },
  "language_info": {
   "codemirror_mode": {
    "name": "ipython",
    "version": 3
   },
   "file_extension": ".py",
   "mimetype": "text/x-python",
   "name": "python",
   "nbconvert_exporter": "python",
   "pygments_lexer": "ipython3",
   "version": "3.11.4"
  }
 },
 "nbformat": 4,
 "nbformat_minor": 2
}
