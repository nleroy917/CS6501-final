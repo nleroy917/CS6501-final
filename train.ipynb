{
 "cells": [
  {
   "cell_type": "code",
   "execution_count": null,
   "metadata": {},
   "outputs": [],
   "source": [
    "import pandas as pd\n",
    "import seaborn as sns\n",
    "import matplotlib.pyplot as plt\n",
    "\n",
    "from sklearn.metrics import confusion_matrix, f1_score\n",
    "\n",
    "from dna_classification.models import DNASequenceClassifier\n",
    "from dna_classification.tokenization import DNATokenizer\n",
    "\n",
    "from tqdm import tqdm\n",
    "\n",
    "plt.rcParams['figure.dpi'] = 300"
   ]
  },
  {
   "cell_type": "code",
   "execution_count": null,
   "metadata": {},
   "outputs": [],
   "source": [
    "data = pd.read_csv(\"data/virus.txt\", skiprows=1, header=None, names=[\"sequence\", \"label\"], sep=\"\\t\")"
   ]
  },
  {
   "cell_type": "code",
   "execution_count": 4,
   "metadata": {},
   "outputs": [],
   "source": [
    "tokenizer = DNATokenizer()\n",
    "tokenizer.build_vocab(\"data/virus.txt\")\n",
    "\n",
    "model = DNASequenceClassifier(\n",
    "    vocab_size=tokenizer.vocab_size,\n",
    "    embedding_dim=384,\n",
    "    hidden_dim=64,\n",
    "    num_layers=2,\n",
    "    num_classes=data[\"label\"].nunique(),\n",
    "    dropout=0.05\n",
    ")\n",
    "\n",
    "model.add_tokenizer(tokenizer)"
   ]
  },
  {
   "cell_type": "code",
   "execution_count": null,
   "metadata": {},
   "outputs": [],
   "source": [
    "train_loss, val_loss = model.train_model(\n",
    "    data=data,\n",
    "    epochs=50,\n",
    "    batch_size=256,\n",
    "    device=\"cuda\",\n",
    "    optimizer_params={\n",
    "        \"lr\": 0.0001,\n",
    "    }\n",
    ")"
   ]
  },
  {
   "cell_type": "code",
   "execution_count": null,
   "metadata": {},
   "outputs": [],
   "source": [
    "model.export(\"checkpoints\")"
   ]
  },
  {
   "cell_type": "code",
   "execution_count": null,
   "metadata": {},
   "outputs": [],
   "source": [
    "# create loss curves\n",
    "fig, ax = plt.subplots(figsize=(8, 6))\n",
    "\n",
    "sns.lineplot(x=range(len(train_loss)), y=train_loss, ax=ax, label=\"train\")\n",
    "sns.lineplot(x=range(len(val_loss)), y=val_loss, ax=ax, label=\"val\")\n",
    "\n",
    "ax.set_xlabel(\"Epoch\")\n",
    "ax.set_ylabel(\"Loss\")\n",
    "\n",
    "# increase font\n",
    "for item in ([ax.title, ax.xaxis.label, ax.yaxis.label] +\n",
    "             ax.get_xticklabels() + ax.get_yticklabels()):\n",
    "    item.set_fontsize(15)\n",
    "\n",
    "# increase line width\n",
    "for line in ax.lines:\n",
    "    line.set_linewidth(2)\n",
    "\n",
    "plt.tight_layout()\n",
    "fig.savefig(\"loss_curves.png\")"
   ]
  },
  {
   "cell_type": "code",
   "execution_count": null,
   "metadata": {},
   "outputs": [],
   "source": [
    "# get accuracy\n",
    "model.cpu()\n",
    "model.eval()\n",
    "correct = 0\n",
    "total = 0\n",
    "\n",
    "# subset\n",
    "data_sample = data.sample(1000)\n",
    "\n",
    "for i in tqdm(range(len(data_sample))):\n",
    "    sequence = data.iloc[i][\"sequence\"]\n",
    "    label = data.iloc[i][\"label\"]\n",
    "    pred = model.predict(sequence)\n",
    "    if pred == label:\n",
    "        correct += 1\n",
    "    total += 1\n",
    "\n",
    "print(f\"Accuracy: {correct / total * 100}%\")"
   ]
  },
  {
   "cell_type": "code",
   "execution_count": null,
   "metadata": {},
   "outputs": [],
   "source": [
    "# assign prediction to each sequence in the data\n",
    "data_sample[\"prediction\"] = data_sample[\"sequence\"].apply(lambda x: model.predict(x))\n",
    "\n",
    "# get confusion matrix\n",
    "confusion_matrix = confusion_matrix(data_sample[\"label\"], data_sample[\"prediction\"])\n",
    "\n",
    "# get F1 score\n",
    "f1_score = f1_score(data_sample[\"label\"], data_sample[\"prediction\"], average=\"macro\")\n",
    "\n",
    "# plot the confusion matrix\n",
    "fig, ax = plt.subplots(figsize=(8, 6))\n",
    "\n",
    "sns.heatmap(confusion_matrix, annot=True, ax=ax, cmap=\"Blues\", fmt=\"g\")\n",
    "\n",
    "ax.set_xlabel(\"Predicted\")\n",
    "ax.set_ylabel(\"True\")\n",
    "\n",
    "# increase font\n",
    "for item in ([ax.title, ax.xaxis.label, ax.yaxis.label] +\n",
    "             ax.get_xticklabels() + ax.get_yticklabels()):\n",
    "    item.set_fontsize(15)\n",
    "\n",
    "plt.tight_layout()\n",
    "\n",
    "fig.savefig(\"confusion_matrix.png\")"
   ]
  }
 ],
 "metadata": {
  "kernelspec": {
   "display_name": "venv",
   "language": "python",
   "name": "python3"
  },
  "language_info": {
   "codemirror_mode": {
    "name": "ipython",
    "version": 3
   },
   "file_extension": ".py",
   "mimetype": "text/x-python",
   "name": "python",
   "nbconvert_exporter": "python",
   "pygments_lexer": "ipython3",
   "version": "3.11.4"
  }
 },
 "nbformat": 4,
 "nbformat_minor": 2
}
